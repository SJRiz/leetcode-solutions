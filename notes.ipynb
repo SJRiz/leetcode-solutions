{
 "cells": [
  {
   "cell_type": "code",
   "execution_count": 1,
   "id": "24c245da",
   "metadata": {},
   "outputs": [],
   "source": [
    "class SinglyNode:\n",
    "    def __init__(self, val, next=None):\n",
    "        self.val = val\n",
    "        self.next = next\n",
    "\n",
    "    def __str__(self):\n",
    "        return str(self.val)"
   ]
  },
  {
   "cell_type": "code",
   "execution_count": 2,
   "id": "bfbfe4ba",
   "metadata": {},
   "outputs": [
    {
     "name": "stdout",
     "output_type": "stream",
     "text": [
      "1\n"
     ]
    }
   ],
   "source": [
    "Head = SinglyNode(1)\n",
    "A = SinglyNode(3)\n",
    "B = SinglyNode(4)\n",
    "C = SinglyNode(7)\n",
    "\n",
    "Head.next = A\n",
    "A.next = B\n",
    "B.next = C\n",
    "\n",
    "print(Head)"
   ]
  },
  {
   "cell_type": "code",
   "execution_count": 5,
   "id": "c4f92a71",
   "metadata": {},
   "outputs": [
    {
     "name": "stdout",
     "output_type": "stream",
     "text": [
      "1\n",
      "3\n",
      "4\n",
      "7\n"
     ]
    }
   ],
   "source": [
    "# Traverse the list O(n)\n",
    "curr = Head\n",
    "\n",
    "# Keep changing the value to the next, until its None.\n",
    "while curr:\n",
    "    print(curr)\n",
    "    curr = curr.next"
   ]
  },
  {
   "cell_type": "code",
   "execution_count": 8,
   "id": "e5b71246",
   "metadata": {},
   "outputs": [
    {
     "name": "stdout",
     "output_type": "stream",
     "text": [
      "1 -> 3 -> 4 -> 7\n"
     ]
    }
   ],
   "source": [
    "def display(head):\n",
    "    curr = head\n",
    "    elements = []\n",
    "    while curr:\n",
    "        elements.append(str(curr.val))\n",
    "        curr = curr.next\n",
    "    print(' -> '.join(elements))\n",
    "\n",
    "display(Head)"
   ]
  },
  {
   "cell_type": "code",
   "execution_count": 14,
   "id": "2f75d41c",
   "metadata": {},
   "outputs": [
    {
     "name": "stdout",
     "output_type": "stream",
     "text": [
      "3\n"
     ]
    }
   ],
   "source": [
    "def search(head, val):\n",
    "    curr = head\n",
    "    index = 0\n",
    "    while curr and curr.val != val:\n",
    "        index += 1\n",
    "        curr = curr.next\n",
    "    print(index)\n",
    "\n",
    "search(Head, 7)"
   ]
  },
  {
   "cell_type": "code",
   "execution_count": 15,
   "id": "d6454e11",
   "metadata": {},
   "outputs": [],
   "source": [
    "# Doubly linked lists\n",
    "\n",
    "class DoublyNode:\n",
    "    def __init__(self, val, next=None, prev=None):\n",
    "        self.val = val\n",
    "        self.next = next\n",
    "        self.prev = prev\n",
    "\n",
    "    def __str__(self):\n",
    "        return str(self.val)"
   ]
  },
  {
   "cell_type": "code",
   "execution_count": 31,
   "id": "6776cd36",
   "metadata": {},
   "outputs": [],
   "source": [
    "head = tail = DoublyNode(1)"
   ]
  },
  {
   "cell_type": "code",
   "execution_count": 19,
   "id": "ecd57640",
   "metadata": {},
   "outputs": [],
   "source": [
    "def display(head):\n",
    "    curr = head\n",
    "    elements = []\n",
    "    while curr:\n",
    "        elements.append(str(curr.val))\n",
    "        curr = curr.next\n",
    "    print(' <-> '.join(elements))"
   ]
  },
  {
   "cell_type": "code",
   "execution_count": 37,
   "id": "4b82cac6",
   "metadata": {},
   "outputs": [
    {
     "name": "stdout",
     "output_type": "stream",
     "text": [
      "1 <-> 1 <-> 6 <-> 6 <-> 6 <-> 6 <-> 1\n"
     ]
    }
   ],
   "source": [
    "def insert_at_beginning(head, tail, val):\n",
    "    new_node = DoublyNode(val=val, next=head)\n",
    "    head.prev = new_node\n",
    "    return new_node, tail\n",
    "\n",
    "head, tail = insert_at_beginning(head, tail, 1)\n",
    "display(head)"
   ]
  },
  {
   "cell_type": "markdown",
   "id": "bb4b0ccc",
   "metadata": {},
   "source": [
    "# Hashsets"
   ]
  },
  {
   "cell_type": "code",
   "execution_count": 38,
   "id": "7f206513",
   "metadata": {},
   "outputs": [
    {
     "name": "stdout",
     "output_type": "stream",
     "text": [
      "{1, 2, 3}\n"
     ]
    }
   ],
   "source": [
    "s = set()\n",
    "s.add(1)\n",
    "s.add(2)\n",
    "s.add(3)\n",
    "\n",
    "print(s)"
   ]
  },
  {
   "cell_type": "code",
   "execution_count": 40,
   "id": "cb4e3371",
   "metadata": {},
   "outputs": [
    {
     "name": "stdout",
     "output_type": "stream",
     "text": [
      "True\n"
     ]
    }
   ],
   "source": [
    "# Lookup is O(1)\n",
    "if 1 in s:\n",
    "    print(True)"
   ]
  },
  {
   "cell_type": "markdown",
   "id": "fa78f770",
   "metadata": {},
   "source": [
    "# Hashmaps"
   ]
  },
  {
   "cell_type": "code",
   "execution_count": 41,
   "id": "23b63ace",
   "metadata": {},
   "outputs": [
    {
     "name": "stdout",
     "output_type": "stream",
     "text": [
      "{'greg': 1, 'steve': 2, 'rob': 3}\n"
     ]
    }
   ],
   "source": [
    "d = {'greg': 1, 'steve': 2, 'rob': 3}\n",
    "print(d)"
   ]
  },
  {
   "cell_type": "code",
   "execution_count": 43,
   "id": "fea6a334",
   "metadata": {},
   "outputs": [
    {
     "name": "stdout",
     "output_type": "stream",
     "text": [
      "defaultdict(<class 'int'>, {2: 1})\n"
     ]
    }
   ],
   "source": [
    "from collections import defaultdict\n",
    "\n",
    "default = defaultdict(int)\n",
    "default[2] = 1\n",
    "print(default)"
   ]
  },
  {
   "cell_type": "code",
   "execution_count": 44,
   "id": "4d981fe0",
   "metadata": {},
   "outputs": [],
   "source": [
    "from collections import Counter\n",
    "string = \"aaaaaaaaaaabbbbbbbbbbbbbccccccccccccccccccdeeeeeeeee\"\n",
    "counter = Counter(string)"
   ]
  },
  {
   "cell_type": "markdown",
   "id": "e4a09aea",
   "metadata": {},
   "source": [
    "# Stacks and queues"
   ]
  },
  {
   "cell_type": "code",
   "execution_count": 46,
   "id": "615cb216",
   "metadata": {},
   "outputs": [
    {
     "data": {
      "text/plain": [
       "[5, 4, 3]"
      ]
     },
     "execution_count": 46,
     "metadata": {},
     "output_type": "execute_result"
    }
   ],
   "source": [
    "stk = []\n",
    "stk.append(5)\n",
    "stk.append(4)\n",
    "stk.append(3)\n",
    "\n",
    "stk"
   ]
  },
  {
   "cell_type": "code",
   "execution_count": 48,
   "id": "d0e00e97",
   "metadata": {},
   "outputs": [
    {
     "name": "stdout",
     "output_type": "stream",
     "text": [
      "True\n"
     ]
    }
   ],
   "source": [
    "x = stk.pop()\n",
    "x, stk\n",
    "\n",
    "if stk:\n",
    "    print(True)"
   ]
  },
  {
   "cell_type": "code",
   "execution_count": 50,
   "id": "97dd8be7",
   "metadata": {},
   "outputs": [
    {
     "name": "stdout",
     "output_type": "stream",
     "text": [
      "deque([])\n"
     ]
    }
   ],
   "source": [
    "# Queues\n",
    "from collections import deque\n",
    "q = deque()\n",
    "print(q)"
   ]
  },
  {
   "cell_type": "code",
   "execution_count": 52,
   "id": "f02214aa",
   "metadata": {},
   "outputs": [
    {
     "data": {
      "text/plain": [
       "deque([5, 6, 5, 6])"
      ]
     },
     "execution_count": 52,
     "metadata": {},
     "output_type": "execute_result"
    }
   ],
   "source": [
    "q.append(5)\n",
    "q.append(6)\n",
    "q"
   ]
  },
  {
   "cell_type": "code",
   "execution_count": 53,
   "id": "d18d8cb6",
   "metadata": {},
   "outputs": [
    {
     "data": {
      "text/plain": [
       "deque([6, 5, 6])"
      ]
     },
     "execution_count": 53,
     "metadata": {},
     "output_type": "execute_result"
    }
   ],
   "source": [
    "q.popleft()\n",
    "q"
   ]
  }
 ],
 "metadata": {
  "kernelspec": {
   "display_name": "Python 3",
   "language": "python",
   "name": "python3"
  },
  "language_info": {
   "codemirror_mode": {
    "name": "ipython",
    "version": 3
   },
   "file_extension": ".py",
   "mimetype": "text/x-python",
   "name": "python",
   "nbconvert_exporter": "python",
   "pygments_lexer": "ipython3",
   "version": "3.11.9"
  }
 },
 "nbformat": 4,
 "nbformat_minor": 5
}
